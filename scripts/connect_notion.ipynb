{
 "cells": [
  {
   "cell_type": "code",
   "execution_count": 32,
   "metadata": {},
   "outputs": [
    {
     "name": "stdout",
     "output_type": "stream",
     "text": [
      "query_url: https://api.notion.com/v1/databases/778b56a297cc4fd7b45d8f40c3d4e1cb/query\n"
     ]
    }
   ],
   "source": [
    "import requests\n",
    "import json\n",
    "import pandas as pd\n",
    "from dateutil import parser\n",
    "import matplotlib\n",
    "import matplotlib.pyplot as plt\n",
    "\n",
    "\n",
    "KEY = \"secret_dhDJCxIGksOzhxiKis5UfH8VWA6JXTnF5T44BANarrG\"\n",
    "headers = {\"Authorization\":KEY, \"Notion-Version\":\"2022-06-28\", \"Content-Type\":\"application/json\"}\n",
    "base_url = \"https://api.notion.com/v1/databases/\"\n",
    "publication_database_id = '54cb3960b40246e2be42cfb58e2b45fd'\n",
    "people_database_id = '778b56a297cc4fd7b45d8f40c3d4e1cb'\n",
    "query_url = base_url+people_database_id+\"/query\"\n",
    "print(\"query_url:\", query_url)\n",
    "#filter_rule = {\"or\": [dict(property=\"年月\", \"\")]}\n",
    "filter_rule={}\n",
    "sort_rules = [dict(property=\"Date\", direction=\"ascending\")]\n",
    "\n",
    "query_data = dict(page_size=100, sorts=sort_rules)#, filter=filter_rule)\n",
    "\n",
    "#res = requests.post(query_url, headers=headers, query_data=query_data)\n",
    "#result = res.content\n",
    "#obj = json.loads( result.decode() )\n",
    "#df = pd.DataFrame(obj[\"results\"])\n"
   ]
  },
  {
   "cell_type": "code",
   "execution_count": 11,
   "metadata": {},
   "outputs": [
    {
     "name": "stdout",
     "output_type": "stream",
     "text": [
      "0\n",
      "21\n",
      "False None None\n"
     ]
    }
   ],
   "source": [
    "import copy\n",
    "def fetch_notion_db(query_url, headers, query_data):\n",
    "    query_data = copy.deepcopy(query_data)\n",
    "    result_list = []\n",
    "    counter = 0\n",
    "    #query_data[\"start_cursor\"] = \"undefined\"\n",
    "    while True:\n",
    "        print(counter)\n",
    "        res = json.loads( requests.post(query_url, headers=headers, data=json.dumps(query_data)).content.decode() )\n",
    "        #print(res)\n",
    "        has_more = res.get(\"has_more\")\n",
    "        result_list = result_list + res[\"results\"]\n",
    "        print(len(result_list))\n",
    "        print(has_more, res[\"next_cursor\"], query_data.get(\"start_cursor\", None))\n",
    "        if has_more is None or has_more==False:\n",
    "            break\n",
    "        query_data[\"start_cursor\"] = res[\"next_cursor\"]\n",
    "        #query_data[\"start_cursor\"] = res[\"next_cursor\"]\n",
    "        counter+=1\n",
    "    return result_list\n",
    "\n",
    "datalist = fetch_notion_db(query_url, headers, query_data)\n",
    "df = pd.DataFrame(datalist)"
   ]
  },
  {
   "cell_type": "code",
   "execution_count": 33,
   "metadata": {},
   "outputs": [],
   "source": [
    "down = json.loads(requests.post(query_url, headers=headers ).content.decode())"
   ]
  },
  {
   "cell_type": "code",
   "execution_count": 34,
   "metadata": {},
   "outputs": [
    {
     "data": {
      "text/plain": [
       "dict_keys(['object', 'results', 'next_cursor', 'has_more', 'type', 'page'])"
      ]
     },
     "execution_count": 34,
     "metadata": {},
     "output_type": "execute_result"
    }
   ],
   "source": [
    "down.keys()"
   ]
  },
  {
   "cell_type": "code",
   "execution_count": 36,
   "metadata": {},
   "outputs": [
    {
     "data": {
      "text/plain": [
       "{'alumni_next': {'id': '%3CoIx', 'type': 'rich_text', 'rich_text': []},\n",
       " 'Photo': {'id': 'GJSM', 'type': 'files', 'files': []},\n",
       " 'email': {'id': 'Kof%40', 'type': 'email', 'email': None},\n",
       " 'graduation': {'id': '_JgX', 'type': 'number', 'number': 0},\n",
       " 'photo_name': {'id': 'fAJp',\n",
       "  'type': 'rich_text',\n",
       "  'rich_text': [{'type': 'text',\n",
       "    'text': {'content': 'hui_huang.png', 'link': None},\n",
       "    'annotations': {'bold': False,\n",
       "     'italic': False,\n",
       "     'strikethrough': False,\n",
       "     'underline': False,\n",
       "     'code': False,\n",
       "     'color': 'default'},\n",
       "    'plain_text': 'hui_huang.png',\n",
       "    'href': None}]},\n",
       " 'role': {'id': 'jZaP',\n",
       "  'type': 'multi_select',\n",
       "  'multi_select': [{'id': 'h|{t',\n",
       "    'name': 'Affiliated Faculty',\n",
       "    'color': 'red'}]},\n",
       " 'number_educ': {'id': 'r%3D%7DC', 'type': 'number', 'number': 0},\n",
       " 'website': {'id': '%7CQhQ',\n",
       "  'type': 'url',\n",
       "  'url': 'http://vcc.szu.edu.cn/~huihuang/'},\n",
       " 'Alumni': {'id': '~%7Clu', 'type': 'checkbox', 'checkbox': False},\n",
       " '\\ufeffname': {'id': 'title',\n",
       "  'type': 'title',\n",
       "  'title': [{'type': 'text',\n",
       "    'text': {'content': 'Hui Huang', 'link': None},\n",
       "    'annotations': {'bold': False,\n",
       "     'italic': False,\n",
       "     'strikethrough': False,\n",
       "     'underline': False,\n",
       "     'code': False,\n",
       "     'color': 'default'},\n",
       "    'plain_text': 'Hui Huang',\n",
       "    'href': None}]}}"
      ]
     },
     "execution_count": 36,
     "metadata": {},
     "output_type": "execute_result"
    }
   ],
   "source": [
    "down[\"results\"][1][\"properties\"]"
   ]
  },
  {
   "cell_type": "code",
   "execution_count": null,
   "metadata": {},
   "outputs": [],
   "source": []
  }
 ],
 "metadata": {
  "kernelspec": {
   "display_name": "Python 3",
   "language": "python",
   "name": "python3"
  },
  "language_info": {
   "codemirror_mode": {
    "name": "ipython",
    "version": 3
   },
   "file_extension": ".py",
   "mimetype": "text/x-python",
   "name": "python",
   "nbconvert_exporter": "python",
   "pygments_lexer": "ipython3",
   "version": "3.10.10"
  },
  "orig_nbformat": 4
 },
 "nbformat": 4,
 "nbformat_minor": 2
}
